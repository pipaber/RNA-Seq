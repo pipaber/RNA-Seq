{
 "cells": [
  {
   "cell_type": "markdown",
   "metadata": {},
   "source": [
    "# Analysis of RNA-Seq Data\n",
    "\n",
    "Piero Palacios Bernuy [![](data:image/png;base64,iVBORw0KGgoAAAANSUhEUgAAABAAAAAQCAYAAAAf8/9hAAAAGXRFWHRTb2Z0d2FyZQBBZG9iZSBJbWFnZVJlYWR5ccllPAAAA2ZpVFh0WE1MOmNvbS5hZG9iZS54bXAAAAAAADw/eHBhY2tldCBiZWdpbj0i77u/IiBpZD0iVzVNME1wQ2VoaUh6cmVTek5UY3prYzlkIj8+IDx4OnhtcG1ldGEgeG1sbnM6eD0iYWRvYmU6bnM6bWV0YS8iIHg6eG1wdGs9IkFkb2JlIFhNUCBDb3JlIDUuMC1jMDYwIDYxLjEzNDc3NywgMjAxMC8wMi8xMi0xNzozMjowMCAgICAgICAgIj4gPHJkZjpSREYgeG1sbnM6cmRmPSJodHRwOi8vd3d3LnczLm9yZy8xOTk5LzAyLzIyLXJkZi1zeW50YXgtbnMjIj4gPHJkZjpEZXNjcmlwdGlvbiByZGY6YWJvdXQ9IiIgeG1sbnM6eG1wTU09Imh0dHA6Ly9ucy5hZG9iZS5jb20veGFwLzEuMC9tbS8iIHhtbG5zOnN0UmVmPSJodHRwOi8vbnMuYWRvYmUuY29tL3hhcC8xLjAvc1R5cGUvUmVzb3VyY2VSZWYjIiB4bWxuczp4bXA9Imh0dHA6Ly9ucy5hZG9iZS5jb20veGFwLzEuMC8iIHhtcE1NOk9yaWdpbmFsRG9jdW1lbnRJRD0ieG1wLmRpZDo1N0NEMjA4MDI1MjA2ODExOTk0QzkzNTEzRjZEQTg1NyIgeG1wTU06RG9jdW1lbnRJRD0ieG1wLmRpZDozM0NDOEJGNEZGNTcxMUUxODdBOEVCODg2RjdCQ0QwOSIgeG1wTU06SW5zdGFuY2VJRD0ieG1wLmlpZDozM0NDOEJGM0ZGNTcxMUUxODdBOEVCODg2RjdCQ0QwOSIgeG1wOkNyZWF0b3JUb29sPSJBZG9iZSBQaG90b3Nob3AgQ1M1IE1hY2ludG9zaCI+IDx4bXBNTTpEZXJpdmVkRnJvbSBzdFJlZjppbnN0YW5jZUlEPSJ4bXAuaWlkOkZDN0YxMTc0MDcyMDY4MTE5NUZFRDc5MUM2MUUwNEREIiBzdFJlZjpkb2N1bWVudElEPSJ4bXAuZGlkOjU3Q0QyMDgwMjUyMDY4MTE5OTRDOTM1MTNGNkRBODU3Ii8+IDwvcmRmOkRlc2NyaXB0aW9uPiA8L3JkZjpSREY+IDwveDp4bXBtZXRhPiA8P3hwYWNrZXQgZW5kPSJyIj8+84NovQAAAR1JREFUeNpiZEADy85ZJgCpeCB2QJM6AMQLo4yOL0AWZETSqACk1gOxAQN+cAGIA4EGPQBxmJA0nwdpjjQ8xqArmczw5tMHXAaALDgP1QMxAGqzAAPxQACqh4ER6uf5MBlkm0X4EGayMfMw/Pr7Bd2gRBZogMFBrv01hisv5jLsv9nLAPIOMnjy8RDDyYctyAbFM2EJbRQw+aAWw/LzVgx7b+cwCHKqMhjJFCBLOzAR6+lXX84xnHjYyqAo5IUizkRCwIENQQckGSDGY4TVgAPEaraQr2a4/24bSuoExcJCfAEJihXkWDj3ZAKy9EJGaEo8T0QSxkjSwORsCAuDQCD+QILmD1A9kECEZgxDaEZhICIzGcIyEyOl2RkgwAAhkmC+eAm0TAAAAABJRU5ErkJggg==)](https://orcid.org/0000-0001-6729-4080)  \n",
    "February 28, 2024\n",
    "\n",
    "This document is part of a series of the analysis of Omics data. Especifycally, here is showed how to analyze bulk RNA-Seq data with Bioconductor packages. Also, it’s showcased how to make plots of the rna data in the context of differentially gene expression and gene-sets.\n",
    "\n",
    "## 1 Introduction\n",
    "\n",
    "hola\n",
    "\n",
    "## 2 Data & Methods"
   ],
   "id": "b01b9e5e-588f-4499-b2ef-659bf0e1337d"
  },
  {
   "cell_type": "code",
   "execution_count": null,
   "metadata": {},
   "outputs": [
    {
     "output_type": "stream",
     "name": "stderr",
     "text": [
      "Loading required package: SummarizedExperiment"
     ]
    },
    {
     "output_type": "stream",
     "name": "stderr",
     "text": [
      "Warning: package 'SummarizedExperiment' was built under R version 4.3.1"
     ]
    },
    {
     "output_type": "stream",
     "name": "stderr",
     "text": [
      "Loading required package: MatrixGenerics"
     ]
    },
    {
     "output_type": "stream",
     "name": "stderr",
     "text": [
      "Warning: package 'MatrixGenerics' was built under R version 4.3.1"
     ]
    },
    {
     "output_type": "stream",
     "name": "stderr",
     "text": [
      "Loading required package: matrixStats"
     ]
    },
    {
     "output_type": "stream",
     "name": "stderr",
     "text": [
      "Warning: package 'matrixStats' was built under R version 4.3.1"
     ]
    },
    {
     "output_type": "stream",
     "name": "stderr",
     "text": [
      "\n",
      "Attaching package: 'MatrixGenerics'"
     ]
    },
    {
     "output_type": "stream",
     "name": "stderr",
     "text": [
      "The following objects are masked from 'package:matrixStats':\n",
      "\n",
      "    colAlls, colAnyNAs, colAnys, colAvgsPerRowSet, colCollapse,\n",
      "    colCounts, colCummaxs, colCummins, colCumprods, colCumsums,\n",
      "    colDiffs, colIQRDiffs, colIQRs, colLogSumExps, colMadDiffs,\n",
      "    colMads, colMaxs, colMeans2, colMedians, colMins, colOrderStats,\n",
      "    colProds, colQuantiles, colRanges, colRanks, colSdDiffs, colSds,\n",
      "    colSums2, colTabulates, colVarDiffs, colVars, colWeightedMads,\n",
      "    colWeightedMeans, colWeightedMedians, colWeightedSds,\n",
      "    colWeightedVars, rowAlls, rowAnyNAs, rowAnys, rowAvgsPerColSet,\n",
      "    rowCollapse, rowCounts, rowCummaxs, rowCummins, rowCumprods,\n",
      "    rowCumsums, rowDiffs, rowIQRDiffs, rowIQRs, rowLogSumExps,\n",
      "    rowMadDiffs, rowMads, rowMaxs, rowMeans2, rowMedians, rowMins,\n",
      "    rowOrderStats, rowProds, rowQuantiles, rowRanges, rowRanks,\n",
      "    rowSdDiffs, rowSds, rowSums2, rowTabulates, rowVarDiffs, rowVars,\n",
      "    rowWeightedMads, rowWeightedMeans, rowWeightedMedians,\n",
      "    rowWeightedSds, rowWeightedVars"
     ]
    },
    {
     "output_type": "stream",
     "name": "stderr",
     "text": [
      "Loading required package: GenomicRanges"
     ]
    },
    {
     "output_type": "stream",
     "name": "stderr",
     "text": [
      "Loading required package: stats4"
     ]
    },
    {
     "output_type": "stream",
     "name": "stderr",
     "text": [
      "Loading required package: BiocGenerics"
     ]
    },
    {
     "output_type": "stream",
     "name": "stderr",
     "text": [
      "\n",
      "Attaching package: 'BiocGenerics'"
     ]
    },
    {
     "output_type": "stream",
     "name": "stderr",
     "text": [
      "The following objects are masked from 'package:stats':\n",
      "\n",
      "    IQR, mad, sd, var, xtabs"
     ]
    },
    {
     "output_type": "stream",
     "name": "stderr",
     "text": [
      "The following objects are masked from 'package:base':\n",
      "\n",
      "    anyDuplicated, aperm, append, as.data.frame, basename, cbind,\n",
      "    colnames, dirname, do.call, duplicated, eval, evalq, Filter, Find,\n",
      "    get, grep, grepl, intersect, is.unsorted, lapply, Map, mapply,\n",
      "    match, mget, order, paste, pmax, pmax.int, pmin, pmin.int,\n",
      "    Position, rank, rbind, Reduce, rownames, sapply, setdiff, sort,\n",
      "    table, tapply, union, unique, unsplit, which.max, which.min"
     ]
    },
    {
     "output_type": "stream",
     "name": "stderr",
     "text": [
      "Loading required package: S4Vectors"
     ]
    },
    {
     "output_type": "stream",
     "name": "stderr",
     "text": [
      "\n",
      "Attaching package: 'S4Vectors'"
     ]
    },
    {
     "output_type": "stream",
     "name": "stderr",
     "text": [
      "The following object is masked from 'package:utils':\n",
      "\n",
      "    findMatches"
     ]
    },
    {
     "output_type": "stream",
     "name": "stderr",
     "text": [
      "The following objects are masked from 'package:base':\n",
      "\n",
      "    expand.grid, I, unname"
     ]
    },
    {
     "output_type": "stream",
     "name": "stderr",
     "text": [
      "Loading required package: IRanges"
     ]
    },
    {
     "output_type": "stream",
     "name": "stderr",
     "text": [
      "\n",
      "Attaching package: 'IRanges'"
     ]
    },
    {
     "output_type": "stream",
     "name": "stderr",
     "text": [
      "The following object is masked from 'package:grDevices':\n",
      "\n",
      "    windows"
     ]
    },
    {
     "output_type": "stream",
     "name": "stderr",
     "text": [
      "Loading required package: GenomeInfoDb"
     ]
    },
    {
     "output_type": "stream",
     "name": "stderr",
     "text": [
      "Loading required package: Biobase"
     ]
    },
    {
     "output_type": "stream",
     "name": "stderr",
     "text": [
      "Welcome to Bioconductor\n",
      "\n",
      "    Vignettes contain introductory material; view with\n",
      "    'browseVignettes()'. To cite Bioconductor, see\n",
      "    'citation(\"Biobase\")', and for packages 'citation(\"pkgname\")'."
     ]
    },
    {
     "output_type": "stream",
     "name": "stderr",
     "text": [
      "\n",
      "Attaching package: 'Biobase'"
     ]
    },
    {
     "output_type": "stream",
     "name": "stderr",
     "text": [
      "The following object is masked from 'package:MatrixGenerics':\n",
      "\n",
      "    rowMedians"
     ]
    },
    {
     "output_type": "stream",
     "name": "stderr",
     "text": [
      "The following objects are masked from 'package:matrixStats':\n",
      "\n",
      "    anyMissing, rowMedians"
     ]
    },
    {
     "output_type": "stream",
     "name": "stderr",
     "text": [
      "Warning: package 'DESeq2' was built under R version 4.3.1"
     ]
    }
   ],
   "source": [
    "library(airway)"
   ],
   "id": "3d4600af-8005-429f-b7e5-d7fb9b7d5623"
  },
  {
   "cell_type": "markdown",
   "metadata": {},
   "source": [
    "pre-filtering"
   ],
   "id": "eb9e3cb8-11e1-488b-ba6f-f3896923f302"
  },
  {
   "cell_type": "code",
   "execution_count": null,
   "metadata": {},
   "outputs": [],
   "source": [
    "keep <- rowSums(counts(dds)>= 10) >= 3\n",
    "\n",
    "dds <- dds[keep,]"
   ],
   "id": "fb708adb-f6f1-4765-a7dd-bc5bb5dc5076"
  },
  {
   "cell_type": "markdown",
   "metadata": {},
   "source": [
    "re-leveling"
   ],
   "id": "ce1fff19-eb1f-4b00-b123-8d9ffcb98cf9"
  },
  {
   "cell_type": "code",
   "execution_count": null,
   "metadata": {},
   "outputs": [],
   "source": [
    "dds$dex <- factor(dds$dex, levels = c(\"untrt\",\"trt\"))\n",
    "dds$dex <- relevel(dds$dex, ref = \"untrt\")\n",
    "dds$dex <- droplevels(dds$dex)"
   ],
   "id": "54ecb2ad-b9a0-4bca-9008-e66cac344b1e"
  },
  {
   "cell_type": "markdown",
   "metadata": {},
   "source": [
    "differential gene expression"
   ],
   "id": "71ec642e-111f-45a9-913d-833043e35eaa"
  },
  {
   "cell_type": "code",
   "execution_count": null,
   "metadata": {},
   "outputs": [
    {
     "output_type": "stream",
     "name": "stderr",
     "text": [
      "estimating size factors"
     ]
    },
    {
     "output_type": "stream",
     "name": "stderr",
     "text": [
      "estimating dispersions"
     ]
    },
    {
     "output_type": "stream",
     "name": "stderr",
     "text": [
      "gene-wise dispersion estimates"
     ]
    },
    {
     "output_type": "stream",
     "name": "stderr",
     "text": [
      "mean-dispersion relationship"
     ]
    },
    {
     "output_type": "stream",
     "name": "stderr",
     "text": [
      "final dispersion estimates"
     ]
    },
    {
     "output_type": "stream",
     "name": "stderr",
     "text": [
      "fitting model and testing"
     ]
    },
    {
     "output_type": "stream",
     "name": "stdout",
     "text": [
      "log2 fold change (MLE): dex trt vs untrt \n",
      "Wald test p-value: dex trt vs untrt \n",
      "DataFrame with 16596 rows and 6 columns\n",
      "                 baseMean log2FoldChange     lfcSE      stat      pvalue\n",
      "                <numeric>      <numeric> <numeric> <numeric>   <numeric>\n",
      "ENSG00000000003   709.880     -0.3839261 0.1008515 -3.806846 1.40750e-04\n",
      "ENSG00000000419   521.156      0.2041705 0.1116546  1.828590 6.74611e-02\n",
      "ENSG00000000457   237.573      0.0352858 0.1412422  0.249825 8.02723e-01\n",
      "ENSG00000000460    58.035     -0.0923157 0.2792981 -0.330527 7.41002e-01\n",
      "ENSG00000000971  5826.538      0.4237405 0.0893546  4.742236 2.11372e-06\n",
      "...                   ...            ...       ...       ...         ...\n",
      "ENSG00000273448  14.02944      0.0583225  0.483593  0.120603    0.904006\n",
      "ENSG00000273472  11.08483     -0.4087635  0.558196 -0.732294    0.463989\n",
      "ENSG00000273486  15.47814     -0.1516640  0.471121 -0.321922    0.747512\n",
      "ENSG00000273487   8.17605      1.0408751  0.678127  1.534926    0.124802\n",
      "ENSG00000273488   8.59778      0.1088526  0.618005  0.176136    0.860187\n",
      "                       padj\n",
      "                  <numeric>\n",
      "ENSG00000000003 1.09455e-03\n",
      "ENSG00000000419 1.85852e-01\n",
      "ENSG00000000457 9.04035e-01\n",
      "ENSG00000000460 8.71680e-01\n",
      "ENSG00000000971 2.48262e-05\n",
      "...                     ...\n",
      "ENSG00000273448    0.954503\n",
      "ENSG00000273472    0.675274\n",
      "ENSG00000273486    0.874323\n",
      "ENSG00000273487    0.292586\n",
      "ENSG00000273488    0.933030"
     ]
    }
   ],
   "source": [
    "dds <- DESeq(dds)"
   ],
   "id": "f6ae063d-dfd4-4505-b3ba-855f1f01605d"
  },
  {
   "cell_type": "markdown",
   "metadata": {},
   "source": [
    "## 3 Conclusion\n",
    "\n",
    "hola\n",
    "\n",
    "## References"
   ],
   "id": "c746f75e-a530-4927-8fb3-dd3975c015da"
  }
 ],
 "nbformat": 4,
 "nbformat_minor": 5,
 "metadata": {}
}
